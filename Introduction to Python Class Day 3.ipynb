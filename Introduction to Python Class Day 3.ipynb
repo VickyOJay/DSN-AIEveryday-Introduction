{
 "cells": [
  {
   "cell_type": "code",
   "execution_count": 1,
   "id": "c8e899ed",
   "metadata": {},
   "outputs": [
    {
     "name": "stdout",
     "output_type": "stream",
     "text": [
      "hello\n"
     ]
    }
   ],
   "source": [
    "word = 'hello'\n",
    "print(word)"
   ]
  },
  {
   "cell_type": "code",
   "execution_count": 11,
   "id": "fb54cbd5",
   "metadata": {},
   "outputs": [],
   "source": [
    "test = 'This is a really long piece of text and we are going use it for practice'"
   ]
  },
  {
   "cell_type": "code",
   "execution_count": 12,
   "id": "45007f7d",
   "metadata": {},
   "outputs": [
    {
     "data": {
      "text/plain": [
       "'THIS IS A REALLY LONG PIECE OF TEXT AND WE ARE GOING USE IT FOR PRACTICE'"
      ]
     },
     "execution_count": 12,
     "metadata": {},
     "output_type": "execute_result"
    }
   ],
   "source": [
    "test.upper()"
   ]
  },
  {
   "cell_type": "code",
   "execution_count": 13,
   "id": "8ed3f572",
   "metadata": {},
   "outputs": [
    {
     "data": {
      "text/plain": [
       "['This',\n",
       " 'is',\n",
       " 'a',\n",
       " 'really',\n",
       " 'long',\n",
       " 'piece',\n",
       " 'of',\n",
       " 'text',\n",
       " 'and',\n",
       " 'we',\n",
       " 'are',\n",
       " 'going',\n",
       " 'use',\n",
       " 'it',\n",
       " 'for',\n",
       " 'practice']"
      ]
     },
     "execution_count": 13,
     "metadata": {},
     "output_type": "execute_result"
    }
   ],
   "source": [
    "test.split()"
   ]
  },
  {
   "cell_type": "code",
   "execution_count": 14,
   "id": "725f31ba",
   "metadata": {},
   "outputs": [
    {
     "data": {
      "text/plain": [
       "'this is a really long piece of text and we are going use it for practice'"
      ]
     },
     "execution_count": 14,
     "metadata": {},
     "output_type": "execute_result"
    }
   ],
   "source": [
    "test.lower()"
   ]
  },
  {
   "cell_type": "code",
   "execution_count": 15,
   "id": "85d75e22",
   "metadata": {},
   "outputs": [
    {
     "data": {
      "text/plain": [
       "['This',\n",
       " 'is',\n",
       " 'a',\n",
       " 'really',\n",
       " 'long',\n",
       " 'piece',\n",
       " 'of',\n",
       " 'text',\n",
       " 'and',\n",
       " 'we',\n",
       " 'are',\n",
       " 'going',\n",
       " 'use',\n",
       " 'it',\n",
       " 'for',\n",
       " 'practice']"
      ]
     },
     "execution_count": 15,
     "metadata": {},
     "output_type": "execute_result"
    }
   ],
   "source": [
    "test.split()"
   ]
  },
  {
   "cell_type": "code",
   "execution_count": 16,
   "id": "ef4aae3c",
   "metadata": {},
   "outputs": [
    {
     "data": {
      "text/plain": [
       "'ext and we are going'"
      ]
     },
     "execution_count": 16,
     "metadata": {},
     "output_type": "execute_result"
    }
   ],
   "source": [
    "test[32:-20]"
   ]
  },
  {
   "cell_type": "code",
   "execution_count": 17,
   "id": "062965ef",
   "metadata": {},
   "outputs": [
    {
     "data": {
      "text/plain": [
       "'e'"
      ]
     },
     "execution_count": 17,
     "metadata": {},
     "output_type": "execute_result"
    }
   ],
   "source": [
    "test[32]"
   ]
  },
  {
   "cell_type": "code",
   "execution_count": 18,
   "id": "febcd050",
   "metadata": {},
   "outputs": [
    {
     "data": {
      "text/plain": [
       "' '"
      ]
     },
     "execution_count": 18,
     "metadata": {},
     "output_type": "execute_result"
    }
   ],
   "source": [
    "test[-20]"
   ]
  },
  {
   "cell_type": "code",
   "execution_count": 20,
   "id": "ce2bb05b",
   "metadata": {},
   "outputs": [
    {
     "data": {
      "text/plain": [
       "'g'"
      ]
     },
     "execution_count": 20,
     "metadata": {},
     "output_type": "execute_result"
    }
   ],
   "source": [
    "test[-21]"
   ]
  },
  {
   "cell_type": "code",
   "execution_count": 21,
   "id": "9beb6729",
   "metadata": {},
   "outputs": [],
   "source": [
    "a = True"
   ]
  },
  {
   "cell_type": "code",
   "execution_count": 22,
   "id": "667890bb",
   "metadata": {},
   "outputs": [
    {
     "data": {
      "text/plain": [
       "True"
      ]
     },
     "execution_count": 22,
     "metadata": {},
     "output_type": "execute_result"
    }
   ],
   "source": [
    "a"
   ]
  },
  {
   "cell_type": "code",
   "execution_count": 23,
   "id": "ef306136",
   "metadata": {},
   "outputs": [
    {
     "data": {
      "text/plain": [
       "bool"
      ]
     },
     "execution_count": 23,
     "metadata": {},
     "output_type": "execute_result"
    }
   ],
   "source": [
    "type(a)"
   ]
  },
  {
   "cell_type": "code",
   "execution_count": 25,
   "id": "d9fef92c",
   "metadata": {},
   "outputs": [],
   "source": [
    "b = False"
   ]
  },
  {
   "cell_type": "code",
   "execution_count": 26,
   "id": "6c6a2c8e",
   "metadata": {},
   "outputs": [
    {
     "data": {
      "text/plain": [
       "False"
      ]
     },
     "execution_count": 26,
     "metadata": {},
     "output_type": "execute_result"
    }
   ],
   "source": [
    "b"
   ]
  },
  {
   "cell_type": "code",
   "execution_count": 27,
   "id": "5586e6e5",
   "metadata": {},
   "outputs": [
    {
     "data": {
      "text/plain": [
       "bool"
      ]
     },
     "execution_count": 27,
     "metadata": {},
     "output_type": "execute_result"
    }
   ],
   "source": [
    "type(b)"
   ]
  },
  {
   "cell_type": "code",
   "execution_count": 28,
   "id": "1a9bb3b1",
   "metadata": {},
   "outputs": [
    {
     "data": {
      "text/plain": [
       "False"
      ]
     },
     "execution_count": 28,
     "metadata": {},
     "output_type": "execute_result"
    }
   ],
   "source": [
    "1 > 2"
   ]
  },
  {
   "cell_type": "code",
   "execution_count": 29,
   "id": "68423d39",
   "metadata": {},
   "outputs": [
    {
     "data": {
      "text/plain": [
       "False"
      ]
     },
     "execution_count": 29,
     "metadata": {},
     "output_type": "execute_result"
    }
   ],
   "source": [
    "2 > 100"
   ]
  },
  {
   "cell_type": "code",
   "execution_count": 30,
   "id": "82c00e13",
   "metadata": {},
   "outputs": [
    {
     "data": {
      "text/plain": [
       "True"
      ]
     },
     "execution_count": 30,
     "metadata": {},
     "output_type": "execute_result"
    }
   ],
   "source": [
    "2 < 1000"
   ]
  },
  {
   "cell_type": "code",
   "execution_count": 32,
   "id": "813147fa",
   "metadata": {},
   "outputs": [],
   "source": [
    "c = None"
   ]
  },
  {
   "cell_type": "code",
   "execution_count": 33,
   "id": "c71366cb",
   "metadata": {},
   "outputs": [
    {
     "data": {
      "text/plain": [
       "NoneType"
      ]
     },
     "execution_count": 33,
     "metadata": {},
     "output_type": "execute_result"
    }
   ],
   "source": [
    "type(c)"
   ]
  },
  {
   "cell_type": "markdown",
   "id": "6ffd26d5",
   "metadata": {},
   "source": [
    "# Creating a Dictionary"
   ]
  },
  {
   "cell_type": "code",
   "execution_count": 35,
   "id": "00aecaed",
   "metadata": {},
   "outputs": [],
   "source": [
    "new_dict = {'item1': 1,\n",
    "           'item2' : 2,\n",
    "           'item3' : 'Abuja'}"
   ]
  },
  {
   "cell_type": "code",
   "execution_count": 36,
   "id": "55a69a33",
   "metadata": {},
   "outputs": [
    {
     "data": {
      "text/plain": [
       "dict"
      ]
     },
     "execution_count": 36,
     "metadata": {},
     "output_type": "execute_result"
    }
   ],
   "source": [
    "type(new_dict)\n"
   ]
  },
  {
   "cell_type": "code",
   "execution_count": 37,
   "id": "77904622",
   "metadata": {},
   "outputs": [],
   "source": [
    "new_dict['item3'] = 'Osogbo'"
   ]
  },
  {
   "cell_type": "code",
   "execution_count": 38,
   "id": "86adf2ce",
   "metadata": {},
   "outputs": [
    {
     "data": {
      "text/plain": [
       "{'item1': 1, 'item2': 2, 'item3': 'Osogbo'}"
      ]
     },
     "execution_count": 38,
     "metadata": {},
     "output_type": "execute_result"
    }
   ],
   "source": [
    "new_dict"
   ]
  },
  {
   "cell_type": "code",
   "execution_count": 66,
   "id": "90c4bbbe",
   "metadata": {},
   "outputs": [],
   "source": [
    "personal_dict = {\n",
    "    'name' : 'Victor',\n",
    "    'email_address' : 'Victorolafimihan7@gmail.com',\n",
    "    'house_address' : 'Kano',\n",
    "     'Age' : 25\n",
    "}"
   ]
  },
  {
   "cell_type": "code",
   "execution_count": 67,
   "id": "1f41a8ec",
   "metadata": {},
   "outputs": [
    {
     "data": {
      "text/plain": [
       "{'name': 'Victor',\n",
       " 'email_address': 'Victorolafimihan7@gmail.com',\n",
       " 'house_address': 'Kano',\n",
       " 'Age': 25}"
      ]
     },
     "execution_count": 67,
     "metadata": {},
     "output_type": "execute_result"
    }
   ],
   "source": [
    "personal_dict"
   ]
  },
  {
   "cell_type": "code",
   "execution_count": 75,
   "id": "fe55f059",
   "metadata": {},
   "outputs": [],
   "source": [
    "girlfriend_dict = {\n",
    "    'name': 'Victoria',\n",
    "    'email_address': 'victoriaoguntoye@gmail.com',\n",
    "    'house_address': 'Lagos',\n",
    "    'age': 24\n",
    "}"
   ]
  },
  {
   "cell_type": "code",
   "execution_count": 70,
   "id": "5cdf70d8",
   "metadata": {},
   "outputs": [
    {
     "data": {
      "text/plain": [
       "{'name': 'Victoria',\n",
       " 'email_address': 'victoriaoguntoye@gmail.com',\n",
       " 'house_address': 'Lagos',\n",
       " 'age': 24}"
      ]
     },
     "execution_count": 70,
     "metadata": {},
     "output_type": "execute_result"
    }
   ],
   "source": [
    "girlfriend_dict"
   ]
  },
  {
   "cell_type": "code",
   "execution_count": 61,
   "id": "be93e6dd",
   "metadata": {},
   "outputs": [
    {
     "data": {
      "text/plain": [
       "'Victor'"
      ]
     },
     "execution_count": 61,
     "metadata": {},
     "output_type": "execute_result"
    }
   ],
   "source": [
    "personal_dict['name']"
   ]
  },
  {
   "cell_type": "code",
   "execution_count": 62,
   "id": "64b1b43a",
   "metadata": {},
   "outputs": [
    {
     "data": {
      "text/plain": [
       "'Victoria'"
      ]
     },
     "execution_count": 62,
     "metadata": {},
     "output_type": "execute_result"
    }
   ],
   "source": [
    "girlfriend_dict['name']"
   ]
  },
  {
   "cell_type": "code",
   "execution_count": 72,
   "id": "7fd54881",
   "metadata": {},
   "outputs": [
    {
     "data": {
      "text/plain": [
       "'victoriaoguntoye@gmail.com'"
      ]
     },
     "execution_count": 72,
     "metadata": {},
     "output_type": "execute_result"
    }
   ],
   "source": [
    "girlfriend_dict['email_address']"
   ]
  },
  {
   "cell_type": "code",
   "execution_count": 77,
   "id": "cf00edfd",
   "metadata": {},
   "outputs": [],
   "source": [
    "personal_dict['sex'] = 'Male'"
   ]
  },
  {
   "cell_type": "code",
   "execution_count": 78,
   "id": "203a7575",
   "metadata": {},
   "outputs": [
    {
     "data": {
      "text/plain": [
       "{'name': 'Victor',\n",
       " 'email_address': 'Victorolafimihan7@gmail.com',\n",
       " 'house_address': 'Kano',\n",
       " 'Age': 25,\n",
       " 'sex': 'Male'}"
      ]
     },
     "execution_count": 78,
     "metadata": {},
     "output_type": "execute_result"
    }
   ],
   "source": [
    "personal_dict"
   ]
  },
  {
   "cell_type": "code",
   "execution_count": 79,
   "id": "aca6debe",
   "metadata": {},
   "outputs": [],
   "source": [
    "girlfriend_dict['sex'] = 'female'"
   ]
  },
  {
   "cell_type": "code",
   "execution_count": 80,
   "id": "75cd5901",
   "metadata": {},
   "outputs": [
    {
     "data": {
      "text/plain": [
       "{'name': 'Victoria',\n",
       " 'email_address': 'victoriaoguntoye@gmail.com',\n",
       " 'house_address': 'Lagos',\n",
       " 'age': 24,\n",
       " 'sex': 'female'}"
      ]
     },
     "execution_count": 80,
     "metadata": {},
     "output_type": "execute_result"
    }
   ],
   "source": [
    "girlfriend_dict"
   ]
  },
  {
   "cell_type": "code",
   "execution_count": 82,
   "id": "5b86db16",
   "metadata": {},
   "outputs": [],
   "source": [
    "d = {'k1':10,\n",
    "     'k2':'stingy',\n",
    "     'k3':[1,2,3,],\n",
    "     'k4':{'inside_key':[20,30,40, {'key_inside':[60,20, 'thirty']}]}\n",
    "}"
   ]
  },
  {
   "cell_type": "code",
   "execution_count": 83,
   "id": "e0613726",
   "metadata": {},
   "outputs": [
    {
     "data": {
      "text/plain": [
       "10"
      ]
     },
     "execution_count": 83,
     "metadata": {},
     "output_type": "execute_result"
    }
   ],
   "source": [
    "d['k1']"
   ]
  },
  {
   "cell_type": "code",
   "execution_count": 84,
   "id": "3cbe6deb",
   "metadata": {},
   "outputs": [
    {
     "data": {
      "text/plain": [
       "'stingy'"
      ]
     },
     "execution_count": 84,
     "metadata": {},
     "output_type": "execute_result"
    }
   ],
   "source": [
    "d['k2']"
   ]
  },
  {
   "cell_type": "code",
   "execution_count": 85,
   "id": "19a1fb18",
   "metadata": {},
   "outputs": [
    {
     "data": {
      "text/plain": [
       "[1, 2, 3]"
      ]
     },
     "execution_count": 85,
     "metadata": {},
     "output_type": "execute_result"
    }
   ],
   "source": [
    "d['k3']"
   ]
  },
  {
   "cell_type": "code",
   "execution_count": 86,
   "id": "77dcccbf",
   "metadata": {},
   "outputs": [
    {
     "data": {
      "text/plain": [
       "{'inside_key': [20, 30, 40, {'key_inside': [60, 20, 'thirty']}]}"
      ]
     },
     "execution_count": 86,
     "metadata": {},
     "output_type": "execute_result"
    }
   ],
   "source": [
    "d['k4']"
   ]
  },
  {
   "cell_type": "code",
   "execution_count": 87,
   "id": "3a7fdc6b",
   "metadata": {},
   "outputs": [
    {
     "data": {
      "text/plain": [
       "[20, 30, 40, {'key_inside': [60, 20, 'thirty']}]"
      ]
     },
     "execution_count": 87,
     "metadata": {},
     "output_type": "execute_result"
    }
   ],
   "source": [
    "d['k4']['inside_key']"
   ]
  },
  {
   "cell_type": "code",
   "execution_count": 90,
   "id": "67d76ef2",
   "metadata": {},
   "outputs": [
    {
     "data": {
      "text/plain": [
       "{'key_inside': [60, 20, 'thirty']}"
      ]
     },
     "execution_count": 90,
     "metadata": {},
     "output_type": "execute_result"
    }
   ],
   "source": [
    "d['k4']['inside_key'][3]"
   ]
  },
  {
   "cell_type": "code",
   "execution_count": 94,
   "id": "1694ab6f",
   "metadata": {},
   "outputs": [
    {
     "data": {
      "text/plain": [
       "[60, 20, 'thirty']"
      ]
     },
     "execution_count": 94,
     "metadata": {},
     "output_type": "execute_result"
    }
   ],
   "source": [
    "d['k4']['inside_key'][3]['key_inside']"
   ]
  },
  {
   "cell_type": "code",
   "execution_count": 95,
   "id": "32445335",
   "metadata": {},
   "outputs": [
    {
     "data": {
      "text/plain": [
       "'thirty'"
      ]
     },
     "execution_count": 95,
     "metadata": {},
     "output_type": "execute_result"
    }
   ],
   "source": [
    "d['k4']['inside_key'][3]['key_inside'][2]"
   ]
  },
  {
   "cell_type": "code",
   "execution_count": 97,
   "id": "f400a85d",
   "metadata": {},
   "outputs": [
    {
     "data": {
      "text/plain": [
       "[60, 20, 'thirty']"
      ]
     },
     "execution_count": 97,
     "metadata": {},
     "output_type": "execute_result"
    }
   ],
   "source": [
    "d['k4']['inside_key'][3]['key_inside']"
   ]
  },
  {
   "cell_type": "code",
   "execution_count": 105,
   "id": "64c65757",
   "metadata": {},
   "outputs": [
    {
     "data": {
      "text/plain": [
       "[20, 'thirty']"
      ]
     },
     "execution_count": 105,
     "metadata": {},
     "output_type": "execute_result"
    }
   ],
   "source": [
    "d['k4']['inside_key'][3]['key_inside'][1:3]"
   ]
  },
  {
   "cell_type": "code",
   "execution_count": 107,
   "id": "32e11be0",
   "metadata": {},
   "outputs": [
    {
     "data": {
      "text/plain": [
       "[20, 'thirty']"
      ]
     },
     "execution_count": 107,
     "metadata": {},
     "output_type": "execute_result"
    }
   ],
   "source": [
    "d['k4']['inside_key'][3]['key_inside'][1:]"
   ]
  },
  {
   "cell_type": "code",
   "execution_count": 110,
   "id": "081211c9",
   "metadata": {},
   "outputs": [],
   "source": [
    "short_names = {\n",
    "    'AAU': 'Ambrose Alli University',\n",
    "    'OAU': 'Obafemi Awolowo University',\n",
    "    'UNILAG' : 'University of Lagos',\n",
    "    'LAUTECH' : 'Ladoke Akintola University of Technology'\n",
    "}"
   ]
  },
  {
   "cell_type": "code",
   "execution_count": 111,
   "id": "fd7b2c95",
   "metadata": {},
   "outputs": [
    {
     "data": {
      "text/plain": [
       "{'AAU': 'Ambrose Alli University',\n",
       " 'OAU': 'Obafemi Awolowo University',\n",
       " 'UNILAG': 'University of Lagos',\n",
       " 'LAUTECH': 'Ladoke Akintola University of Technology'}"
      ]
     },
     "execution_count": 111,
     "metadata": {},
     "output_type": "execute_result"
    }
   ],
   "source": [
    "short_names"
   ]
  },
  {
   "cell_type": "code",
   "execution_count": 112,
   "id": "e80f5a59",
   "metadata": {},
   "outputs": [
    {
     "data": {
      "text/plain": [
       "dict_values(['Ambrose Alli University', 'Obafemi Awolowo University', 'University of Lagos', 'Ladoke Akintola University of Technology'])"
      ]
     },
     "execution_count": 112,
     "metadata": {},
     "output_type": "execute_result"
    }
   ],
   "source": [
    "short_names.values()"
   ]
  },
  {
   "cell_type": "code",
   "execution_count": 114,
   "id": "d708868c",
   "metadata": {},
   "outputs": [
    {
     "data": {
      "text/plain": [
       "dict_keys(['AAU', 'OAU', 'UNILAG', 'LAUTECH'])"
      ]
     },
     "execution_count": 114,
     "metadata": {},
     "output_type": "execute_result"
    }
   ],
   "source": [
    "short_names.keys()"
   ]
  },
  {
   "cell_type": "code",
   "execution_count": 115,
   "id": "c77c3baa",
   "metadata": {},
   "outputs": [
    {
     "data": {
      "text/plain": [
       "dict_items([('AAU', 'Ambrose Alli University'), ('OAU', 'Obafemi Awolowo University'), ('UNILAG', 'University of Lagos'), ('LAUTECH', 'Ladoke Akintola University of Technology')])"
      ]
     },
     "execution_count": 115,
     "metadata": {},
     "output_type": "execute_result"
    }
   ],
   "source": [
    "short_names.items()"
   ]
  },
  {
   "cell_type": "code",
   "execution_count": 117,
   "id": "6ca4a323",
   "metadata": {},
   "outputs": [
    {
     "data": {
      "text/plain": [
       "'Ladoke Akintola University of Technology'"
      ]
     },
     "execution_count": 117,
     "metadata": {},
     "output_type": "execute_result"
    }
   ],
   "source": [
    "short_names['LAUTECH']"
   ]
  },
  {
   "cell_type": "code",
   "execution_count": 122,
   "id": "99876b55",
   "metadata": {},
   "outputs": [],
   "source": [
    "short_names['FPE'] ='Federal Polytechnic Ede'"
   ]
  },
  {
   "cell_type": "code",
   "execution_count": 123,
   "id": "ceae236e",
   "metadata": {},
   "outputs": [
    {
     "data": {
      "text/plain": [
       "{'AAU': 'Ambrose Alli University',\n",
       " 'OAU': 'Obafemi Awolowo University',\n",
       " 'UNILAG': 'University of Lagos',\n",
       " 'LAUTECH': 'Ladoke Akintola University of Technology',\n",
       " 'FPE': 'Federal Polytechnic Ede'}"
      ]
     },
     "execution_count": 123,
     "metadata": {},
     "output_type": "execute_result"
    }
   ],
   "source": [
    "short_names"
   ]
  },
  {
   "cell_type": "markdown",
   "id": "ba36ab7a",
   "metadata": {},
   "source": [
    "# TUPLES"
   ]
  },
  {
   "cell_type": "code",
   "execution_count": 133,
   "id": "0ceb7643",
   "metadata": {},
   "outputs": [],
   "source": [
    "t = (1,2,3)"
   ]
  },
  {
   "cell_type": "code",
   "execution_count": 127,
   "id": "64c555fc",
   "metadata": {},
   "outputs": [
    {
     "data": {
      "text/plain": [
       "tuple"
      ]
     },
     "execution_count": 127,
     "metadata": {},
     "output_type": "execute_result"
    }
   ],
   "source": [
    "type(t)"
   ]
  },
  {
   "cell_type": "code",
   "execution_count": 138,
   "id": "1eeacd33",
   "metadata": {},
   "outputs": [],
   "source": [
    "t = ('a', 1)"
   ]
  },
  {
   "cell_type": "code",
   "execution_count": 129,
   "id": "7519233c",
   "metadata": {},
   "outputs": [
    {
     "data": {
      "text/plain": [
       "'a'"
      ]
     },
     "execution_count": 129,
     "metadata": {},
     "output_type": "execute_result"
    }
   ],
   "source": [
    "t[0]"
   ]
  },
  {
   "cell_type": "code",
   "execution_count": 130,
   "id": "eebfbf96",
   "metadata": {},
   "outputs": [
    {
     "data": {
      "text/plain": [
       "1"
      ]
     },
     "execution_count": 130,
     "metadata": {},
     "output_type": "execute_result"
    }
   ],
   "source": [
    "t[1]"
   ]
  },
  {
   "cell_type": "code",
   "execution_count": 131,
   "id": "13ba9d07",
   "metadata": {},
   "outputs": [
    {
     "data": {
      "text/plain": [
       "1"
      ]
     },
     "execution_count": 131,
     "metadata": {},
     "output_type": "execute_result"
    }
   ],
   "source": [
    "t[-1]"
   ]
  },
  {
   "cell_type": "code",
   "execution_count": 132,
   "id": "5c59844e",
   "metadata": {},
   "outputs": [
    {
     "data": {
      "text/plain": [
       "'a'"
      ]
     },
     "execution_count": 132,
     "metadata": {},
     "output_type": "execute_result"
    }
   ],
   "source": [
    "t[-2]"
   ]
  },
  {
   "cell_type": "code",
   "execution_count": 139,
   "id": "5599e983",
   "metadata": {},
   "outputs": [
    {
     "data": {
      "text/plain": [
       "0"
      ]
     },
     "execution_count": 139,
     "metadata": {},
     "output_type": "execute_result"
    }
   ],
   "source": [
    "t.index('a')"
   ]
  },
  {
   "cell_type": "code",
   "execution_count": 141,
   "id": "1e1b93ee",
   "metadata": {},
   "outputs": [],
   "source": [
    "t = ('a', 'b', 'c', 'a')"
   ]
  },
  {
   "cell_type": "code",
   "execution_count": 142,
   "id": "b109e547",
   "metadata": {},
   "outputs": [
    {
     "data": {
      "text/plain": [
       "2"
      ]
     },
     "execution_count": 142,
     "metadata": {},
     "output_type": "execute_result"
    }
   ],
   "source": [
    "t.count('a')"
   ]
  },
  {
   "cell_type": "code",
   "execution_count": 143,
   "id": "9f38d604",
   "metadata": {},
   "outputs": [
    {
     "data": {
      "text/plain": [
       "1"
      ]
     },
     "execution_count": 143,
     "metadata": {},
     "output_type": "execute_result"
    }
   ],
   "source": [
    "t.count('c')"
   ]
  },
  {
   "cell_type": "code",
   "execution_count": 144,
   "id": "9005cb8e",
   "metadata": {},
   "outputs": [],
   "source": [
    "b = (3,2, 'Ade')"
   ]
  },
  {
   "cell_type": "code",
   "execution_count": 145,
   "id": "fa5910c2",
   "metadata": {},
   "outputs": [
    {
     "data": {
      "text/plain": [
       "tuple"
      ]
     },
     "execution_count": 145,
     "metadata": {},
     "output_type": "execute_result"
    }
   ],
   "source": [
    "type(b)"
   ]
  },
  {
   "cell_type": "code",
   "execution_count": 146,
   "id": "21f791d2",
   "metadata": {},
   "outputs": [],
   "source": [
    "x = set()"
   ]
  },
  {
   "cell_type": "code",
   "execution_count": 147,
   "id": "31137957",
   "metadata": {},
   "outputs": [],
   "source": [
    "x.add(1)"
   ]
  },
  {
   "cell_type": "code",
   "execution_count": 148,
   "id": "fa6eb3e1",
   "metadata": {},
   "outputs": [
    {
     "data": {
      "text/plain": [
       "{1}"
      ]
     },
     "execution_count": 148,
     "metadata": {},
     "output_type": "execute_result"
    }
   ],
   "source": [
    "x"
   ]
  },
  {
   "cell_type": "code",
   "execution_count": 149,
   "id": "a01e8ad5",
   "metadata": {},
   "outputs": [],
   "source": [
    "x.add(2)"
   ]
  },
  {
   "cell_type": "code",
   "execution_count": 150,
   "id": "80ef94df",
   "metadata": {},
   "outputs": [
    {
     "data": {
      "text/plain": [
       "{1, 2}"
      ]
     },
     "execution_count": 150,
     "metadata": {},
     "output_type": "execute_result"
    }
   ],
   "source": [
    "x"
   ]
  },
  {
   "cell_type": "code",
   "execution_count": 151,
   "id": "a7aaddbe",
   "metadata": {},
   "outputs": [],
   "source": [
    "x.add(32)"
   ]
  },
  {
   "cell_type": "code",
   "execution_count": 152,
   "id": "843bbf6d",
   "metadata": {},
   "outputs": [
    {
     "data": {
      "text/plain": [
       "{1, 2, 32}"
      ]
     },
     "execution_count": 152,
     "metadata": {},
     "output_type": "execute_result"
    }
   ],
   "source": [
    "x"
   ]
  },
  {
   "cell_type": "code",
   "execution_count": 153,
   "id": "7222c52e",
   "metadata": {},
   "outputs": [],
   "source": [
    "x.remove(32)"
   ]
  },
  {
   "cell_type": "code",
   "execution_count": 154,
   "id": "1198c451",
   "metadata": {},
   "outputs": [
    {
     "data": {
      "text/plain": [
       "{1, 2}"
      ]
     },
     "execution_count": 154,
     "metadata": {},
     "output_type": "execute_result"
    }
   ],
   "source": [
    "x"
   ]
  },
  {
   "cell_type": "code",
   "execution_count": 155,
   "id": "a5bbe95a",
   "metadata": {},
   "outputs": [],
   "source": [
    "x.add(1)"
   ]
  },
  {
   "cell_type": "code",
   "execution_count": 156,
   "id": "0f20533b",
   "metadata": {},
   "outputs": [
    {
     "data": {
      "text/plain": [
       "{1, 2}"
      ]
     },
     "execution_count": 156,
     "metadata": {},
     "output_type": "execute_result"
    }
   ],
   "source": [
    "x"
   ]
  },
  {
   "cell_type": "code",
   "execution_count": 157,
   "id": "eac0c294",
   "metadata": {},
   "outputs": [],
   "source": [
    "mylist = [1,1,1,1,1,2,2,2,2,2,3,3,3,3,3]"
   ]
  },
  {
   "cell_type": "code",
   "execution_count": 158,
   "id": "4e52fe4f",
   "metadata": {},
   "outputs": [
    {
     "data": {
      "text/plain": [
       "{1, 2, 3}"
      ]
     },
     "execution_count": 158,
     "metadata": {},
     "output_type": "execute_result"
    }
   ],
   "source": [
    "set(mylist)"
   ]
  },
  {
   "cell_type": "code",
   "execution_count": 173,
   "id": "78d50884",
   "metadata": {},
   "outputs": [],
   "source": [
    "myset = {1,2,3}"
   ]
  },
  {
   "cell_type": "code",
   "execution_count": 174,
   "id": "d34187ad",
   "metadata": {},
   "outputs": [],
   "source": [
    "val = [4,5]"
   ]
  },
  {
   "cell_type": "code",
   "execution_count": 176,
   "id": "a58dd041",
   "metadata": {},
   "outputs": [],
   "source": [
    "myset.update(val)"
   ]
  },
  {
   "cell_type": "code",
   "execution_count": 177,
   "id": "2e6d9da6",
   "metadata": {},
   "outputs": [
    {
     "data": {
      "text/plain": [
       "{1, 2, 3, 4, 5}"
      ]
     },
     "execution_count": 177,
     "metadata": {},
     "output_type": "execute_result"
    }
   ],
   "source": [
    "myset"
   ]
  },
  {
   "cell_type": "code",
   "execution_count": 178,
   "id": "3fc6071d",
   "metadata": {},
   "outputs": [],
   "source": [
    "myset.add(6)"
   ]
  },
  {
   "cell_type": "code",
   "execution_count": 179,
   "id": "f1de02e5",
   "metadata": {},
   "outputs": [],
   "source": [
    "val2 = [6,7,8]"
   ]
  },
  {
   "cell_type": "code",
   "execution_count": 180,
   "id": "989d7f2e",
   "metadata": {},
   "outputs": [],
   "source": [
    "myset.update(val2)"
   ]
  },
  {
   "cell_type": "code",
   "execution_count": 181,
   "id": "ad9b962b",
   "metadata": {},
   "outputs": [
    {
     "data": {
      "text/plain": [
       "{1, 2, 3, 4, 5, 6, 7, 8}"
      ]
     },
     "execution_count": 181,
     "metadata": {},
     "output_type": "execute_result"
    }
   ],
   "source": [
    "myset"
   ]
  },
  {
   "cell_type": "code",
   "execution_count": 182,
   "id": "5f4ac63a",
   "metadata": {},
   "outputs": [
    {
     "data": {
      "text/plain": [
       "set"
      ]
     },
     "execution_count": 182,
     "metadata": {},
     "output_type": "execute_result"
    }
   ],
   "source": [
    "type(myset)"
   ]
  }
 ],
 "metadata": {
  "kernelspec": {
   "display_name": "Python 3 (ipykernel)",
   "language": "python",
   "name": "python3"
  },
  "language_info": {
   "codemirror_mode": {
    "name": "ipython",
    "version": 3
   },
   "file_extension": ".py",
   "mimetype": "text/x-python",
   "name": "python",
   "nbconvert_exporter": "python",
   "pygments_lexer": "ipython3",
   "version": "3.9.13"
  }
 },
 "nbformat": 4,
 "nbformat_minor": 5
}
