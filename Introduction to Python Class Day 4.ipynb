{
 "cells": [
  {
   "cell_type": "markdown",
   "id": "5fb891b8",
   "metadata": {},
   "source": [
    "# Lists and For loop"
   ]
  },
  {
   "cell_type": "code",
   "execution_count": 1,
   "id": "fdec1a3d",
   "metadata": {},
   "outputs": [],
   "source": [
    "my_list = [1,2,3,4,5,6,7]"
   ]
  },
  {
   "cell_type": "code",
   "execution_count": 2,
   "id": "3ac78b11",
   "metadata": {},
   "outputs": [],
   "source": [
    "my_list.reverse()"
   ]
  },
  {
   "cell_type": "code",
   "execution_count": 3,
   "id": "661b28d3",
   "metadata": {},
   "outputs": [
    {
     "data": {
      "text/plain": [
       "[7, 6, 5, 4, 3, 2, 1]"
      ]
     },
     "execution_count": 3,
     "metadata": {},
     "output_type": "execute_result"
    }
   ],
   "source": [
    "my_list"
   ]
  },
  {
   "cell_type": "code",
   "execution_count": 4,
   "id": "c1a3d780",
   "metadata": {},
   "outputs": [],
   "source": [
    "my_list.sort()"
   ]
  },
  {
   "cell_type": "code",
   "execution_count": 5,
   "id": "985d9b98",
   "metadata": {},
   "outputs": [
    {
     "data": {
      "text/plain": [
       "[1, 2, 3, 4, 5, 6, 7]"
      ]
     },
     "execution_count": 5,
     "metadata": {},
     "output_type": "execute_result"
    }
   ],
   "source": [
    "my_list"
   ]
  },
  {
   "cell_type": "code",
   "execution_count": 6,
   "id": "2131cb0c",
   "metadata": {},
   "outputs": [],
   "source": [
    "my_list.sort(reverse = False)"
   ]
  },
  {
   "cell_type": "code",
   "execution_count": 7,
   "id": "fc41f3c0",
   "metadata": {},
   "outputs": [
    {
     "name": "stdout",
     "output_type": "stream",
     "text": [
      "[1, 2, 3, 4, 5, 6, 7]\n"
     ]
    }
   ],
   "source": [
    "print(my_list)"
   ]
  },
  {
   "cell_type": "code",
   "execution_count": 8,
   "id": "e3083dc6",
   "metadata": {},
   "outputs": [],
   "source": [
    "my_list.insert(3,'Favour')"
   ]
  },
  {
   "cell_type": "code",
   "execution_count": 9,
   "id": "f1ecefc7",
   "metadata": {},
   "outputs": [
    {
     "data": {
      "text/plain": [
       "[1, 2, 3, 'Favour', 4, 5, 6, 7]"
      ]
     },
     "execution_count": 9,
     "metadata": {},
     "output_type": "execute_result"
    }
   ],
   "source": [
    "my_list"
   ]
  },
  {
   "cell_type": "code",
   "execution_count": 10,
   "id": "3110e75e",
   "metadata": {},
   "outputs": [],
   "source": [
    "list1 = ['a','b','c','d']\n",
    "list2 = ['e','f','g','h']"
   ]
  },
  {
   "cell_type": "code",
   "execution_count": 11,
   "id": "6b139e05",
   "metadata": {},
   "outputs": [],
   "source": [
    "list1.extend(list2)"
   ]
  },
  {
   "cell_type": "code",
   "execution_count": 12,
   "id": "191d3f6d",
   "metadata": {},
   "outputs": [
    {
     "data": {
      "text/plain": [
       "['a', 'b', 'c', 'd', 'e', 'f', 'g', 'h']"
      ]
     },
     "execution_count": 12,
     "metadata": {},
     "output_type": "execute_result"
    }
   ],
   "source": [
    "list1"
   ]
  },
  {
   "cell_type": "markdown",
   "id": "ff40a463",
   "metadata": {},
   "source": [
    "\n",
    "# Nested List"
   ]
  },
  {
   "cell_type": "code",
   "execution_count": 13,
   "id": "d5545880",
   "metadata": {},
   "outputs": [],
   "source": [
    "new_list = [1,2,3,['a','b','c']]"
   ]
  },
  {
   "cell_type": "code",
   "execution_count": 14,
   "id": "8307f8ba",
   "metadata": {},
   "outputs": [
    {
     "data": {
      "text/plain": [
       "['a', 'b', 'c']"
      ]
     },
     "execution_count": 14,
     "metadata": {},
     "output_type": "execute_result"
    }
   ],
   "source": [
    "new_list[3]"
   ]
  },
  {
   "cell_type": "code",
   "execution_count": 15,
   "id": "18a1cfab",
   "metadata": {},
   "outputs": [],
   "source": [
    "my_list = [[1,2], [3,4], [7,8]]"
   ]
  },
  {
   "cell_type": "code",
   "execution_count": 16,
   "id": "7a6f5ac7",
   "metadata": {},
   "outputs": [
    {
     "data": {
      "text/plain": [
       "[[7, 8]]"
      ]
     },
     "execution_count": 16,
     "metadata": {},
     "output_type": "execute_result"
    }
   ],
   "source": [
    "my_list[-1:]"
   ]
  },
  {
   "cell_type": "code",
   "execution_count": 17,
   "id": "d36202e3",
   "metadata": {},
   "outputs": [
    {
     "data": {
      "text/plain": [
       "[[1, 2], [3, 4], [7, 8]]"
      ]
     },
     "execution_count": 17,
     "metadata": {},
     "output_type": "execute_result"
    }
   ],
   "source": [
    "my_list"
   ]
  },
  {
   "cell_type": "code",
   "execution_count": 18,
   "id": "953719b1",
   "metadata": {},
   "outputs": [],
   "source": [
    "mylist1 = [20,30,40,60]"
   ]
  },
  {
   "cell_type": "code",
   "execution_count": 19,
   "id": "292dd385",
   "metadata": {},
   "outputs": [],
   "source": [
    "mylist1.insert(3, 50)\n"
   ]
  },
  {
   "cell_type": "code",
   "execution_count": 20,
   "id": "917fe6ae",
   "metadata": {},
   "outputs": [
    {
     "data": {
      "text/plain": [
       "[20, 30, 40, 50, 60]"
      ]
     },
     "execution_count": 20,
     "metadata": {},
     "output_type": "execute_result"
    }
   ],
   "source": [
    "mylist1"
   ]
  },
  {
   "cell_type": "code",
   "execution_count": 21,
   "id": "b3466c11",
   "metadata": {},
   "outputs": [],
   "source": [
    "mylist = ['a','c','d']"
   ]
  },
  {
   "cell_type": "code",
   "execution_count": 22,
   "id": "24fe69f8",
   "metadata": {},
   "outputs": [],
   "source": [
    "mylist[1] = 'b'"
   ]
  },
  {
   "cell_type": "code",
   "execution_count": 23,
   "id": "252d6626",
   "metadata": {},
   "outputs": [
    {
     "data": {
      "text/plain": [
       "['a', 'b', 'd']"
      ]
     },
     "execution_count": 23,
     "metadata": {},
     "output_type": "execute_result"
    }
   ],
   "source": [
    "mylist"
   ]
  },
  {
   "cell_type": "code",
   "execution_count": 24,
   "id": "9cafb05d",
   "metadata": {},
   "outputs": [],
   "source": [
    "mylist.insert(2, 'c')"
   ]
  },
  {
   "cell_type": "code",
   "execution_count": 25,
   "id": "1cf10a51",
   "metadata": {},
   "outputs": [
    {
     "data": {
      "text/plain": [
       "['a', 'b', 'c', 'd']"
      ]
     },
     "execution_count": 25,
     "metadata": {},
     "output_type": "execute_result"
    }
   ],
   "source": [
    "mylist"
   ]
  },
  {
   "cell_type": "markdown",
   "id": "96182b09",
   "metadata": {},
   "source": [
    "# While Loop"
   ]
  },
  {
   "cell_type": "code",
   "execution_count": 26,
   "id": "846f700b",
   "metadata": {},
   "outputs": [
    {
     "name": "stdout",
     "output_type": "stream",
     "text": [
      "a is less than 10\n",
      "a is less than 10\n",
      "a is less than 10\n",
      "a is less than 10\n",
      "a is less than 10\n",
      "a is less than 10\n",
      "a is less than 10\n",
      "a is less than 10\n",
      "a is less than 10\n"
     ]
    }
   ],
   "source": [
    "a = 1\n",
    "\n",
    "while a < 10:\n",
    "    print(\"a is less than 10\")\n",
    "    a = a+1\n"
   ]
  },
  {
   "cell_type": "code",
   "execution_count": 27,
   "id": "7e4145a7",
   "metadata": {},
   "outputs": [
    {
     "name": "stdout",
     "output_type": "stream",
     "text": [
      "X is currently\n",
      "0\n",
      "X is currently\n",
      "1\n",
      "X is currently\n",
      "2\n"
     ]
    }
   ],
   "source": [
    "x = 0\n",
    "\n",
    "while x < 3:\n",
    "    print('X is currently')\n",
    "    print(x)\n",
    "    x = x + 1"
   ]
  },
  {
   "cell_type": "code",
   "execution_count": 28,
   "id": "7de6245a",
   "metadata": {},
   "outputs": [
    {
     "name": "stdout",
     "output_type": "stream",
     "text": [
      "2\n",
      "3\n",
      "4\n",
      "5\n"
     ]
    }
   ],
   "source": [
    "# Print numbers from 2 to a value less than 6\n",
    "\n",
    "a = 2\n",
    "\n",
    "while a < 6:\n",
    "    print(a)\n",
    "    a += 1"
   ]
  },
  {
   "cell_type": "code",
   "execution_count": 29,
   "id": "e24780d3",
   "metadata": {},
   "outputs": [
    {
     "name": "stdout",
     "output_type": "stream",
     "text": [
      "0\n",
      "1\n",
      "2\n"
     ]
    }
   ],
   "source": [
    "a = 0\n",
    "\n",
    "while a < 10:\n",
    "    print(a)\n",
    "    a += 1\n",
    "    \n",
    "    if a == 3:\n",
    "        break"
   ]
  },
  {
   "cell_type": "code",
   "execution_count": 30,
   "id": "f14efc0f",
   "metadata": {},
   "outputs": [
    {
     "name": "stdout",
     "output_type": "stream",
     "text": [
      "30\n"
     ]
    }
   ],
   "source": [
    "a = 12\n",
    "a += a + 6\n",
    "print(a)"
   ]
  },
  {
   "cell_type": "code",
   "execution_count": 31,
   "id": "c9e27713",
   "metadata": {},
   "outputs": [
    {
     "name": "stdout",
     "output_type": "stream",
     "text": [
      "T\n",
      "h\n",
      "i\n",
      "s\n",
      " \n",
      "i\n",
      "s\n",
      " \n",
      "a\n",
      " \n",
      "s\n",
      "t\n",
      "r\n",
      "i\n",
      "n\n",
      "g\n"
     ]
    }
   ],
   "source": [
    "mystring = \"This is a string\"\n",
    "\n",
    "for word in mystring:\n",
    "    print(word)"
   ]
  },
  {
   "cell_type": "code",
   "execution_count": 32,
   "id": "ecf28d5d",
   "metadata": {},
   "outputs": [
    {
     "name": "stdout",
     "output_type": "stream",
     "text": [
      "This\n",
      "is\n",
      "a\n",
      "string\n"
     ]
    }
   ],
   "source": [
    "for word in mystring.split():\n",
    "    print(word)"
   ]
  },
  {
   "cell_type": "code",
   "execution_count": 33,
   "id": "b8b43637",
   "metadata": {},
   "outputs": [],
   "source": [
    "hobby = \"This is me and this is what i like doing\""
   ]
  },
  {
   "cell_type": "code",
   "execution_count": 34,
   "id": "8bf5ec8a",
   "metadata": {},
   "outputs": [
    {
     "name": "stdout",
     "output_type": "stream",
     "text": [
      "This\n",
      "is\n",
      "me\n",
      "and\n",
      "this\n",
      "is\n",
      "what\n",
      "i\n",
      "like\n",
      "doing\n"
     ]
    }
   ],
   "source": [
    "for word in hobby.split():\n",
    "    print(word)"
   ]
  },
  {
   "cell_type": "code",
   "execution_count": 35,
   "id": "e46cfa17",
   "metadata": {},
   "outputs": [
    {
     "name": "stdout",
     "output_type": "stream",
     "text": [
      "I am in a for loop\n",
      "1\n",
      "I am in a for loop\n",
      "2\n",
      "I am in a for loop\n",
      "3\n",
      "I am in a for loop\n",
      "4\n",
      "The End\n"
     ]
    }
   ],
   "source": [
    "my = [1,2,3,4]\n",
    "for i in my:\n",
    "    print(\"I am in a for loop\")\n",
    "    print(i)\n",
    "print(\"The End\")\n",
    "    \n"
   ]
  },
  {
   "cell_type": "code",
   "execution_count": 36,
   "id": "dc53ce5a",
   "metadata": {},
   "outputs": [
    {
     "name": "stdout",
     "output_type": "stream",
     "text": [
      "0\n",
      "1\n",
      "2\n",
      "3\n"
     ]
    }
   ],
   "source": [
    "mylist = [1,2,3,4]\n",
    "\n",
    "for my in range(len(mylist)):\n",
    "    print(my)"
   ]
  },
  {
   "cell_type": "code",
   "execution_count": 37,
   "id": "f3d17136",
   "metadata": {},
   "outputs": [
    {
     "name": "stdout",
     "output_type": "stream",
     "text": [
      "6\n",
      "6\n",
      "14\n",
      "Sum: 26\n"
     ]
    }
   ],
   "source": [
    "name1 = 'Ibekwe'\n",
    "name2 = 'Favour'\n",
    "name3 = 'Mmachukwumerem'\n",
    "print(len(name1))\n",
    "print(len(name2))\n",
    "print(len(name3))\n",
    "print('Sum:',len(name1) + len(name2) + len(name3))"
   ]
  },
  {
   "cell_type": "code",
   "execution_count": 38,
   "id": "3f1ff3db",
   "metadata": {},
   "outputs": [
    {
     "name": "stdout",
     "output_type": "stream",
     "text": [
      "This is me and this is what i like doing "
     ]
    }
   ],
   "source": [
    "strings = 'This is me and this is what i like doing'\n",
    "\n",
    "for char in strings.split():\n",
    "    print(char, end = ' ')"
   ]
  },
  {
   "cell_type": "code",
   "execution_count": 39,
   "id": "dbcf261a",
   "metadata": {},
   "outputs": [
    {
     "name": "stdout",
     "output_type": "stream",
     "text": [
      "1234"
     ]
    }
   ],
   "source": [
    "mylist = [1,2,3,4]\n",
    "\n",
    "for num in mylist:\n",
    "    print(num, end = '')"
   ]
  },
  {
   "cell_type": "code",
   "execution_count": 40,
   "id": "0e712c03",
   "metadata": {},
   "outputs": [
    {
     "name": "stdout",
     "output_type": "stream",
     "text": [
      "1\n",
      "\n",
      "\n",
      "2\n",
      "3\n",
      "\n",
      "\n",
      "4\n",
      "5\n",
      "\n",
      "\n",
      "6\n",
      "7\n",
      "\n",
      "\n",
      "8\n"
     ]
    }
   ],
   "source": [
    "list_of_tuples = [(1,2), (3,4), (5,6), (7,8)]\n",
    "\n",
    "for number1, number2 in list_of_tuples:\n",
    "    print(number1)\n",
    "    print('\\n')\n",
    "    print(number2)"
   ]
  },
  {
   "cell_type": "markdown",
   "id": "cfd27d57",
   "metadata": {},
   "source": [
    "# For loop with tuple"
   ]
  },
  {
   "cell_type": "code",
   "execution_count": 41,
   "id": "1376bca6",
   "metadata": {},
   "outputs": [
    {
     "name": "stdout",
     "output_type": "stream",
     "text": [
      "1\n",
      "2\n",
      "3\n",
      "4\n"
     ]
    }
   ],
   "source": [
    "tup = (1,2,3,4)\n",
    "\n",
    "for num in tup:\n",
    "    print(num)"
   ]
  },
  {
   "cell_type": "code",
   "execution_count": 42,
   "id": "8dcc2cbd",
   "metadata": {},
   "outputs": [
    {
     "name": "stdout",
     "output_type": "stream",
     "text": [
      "1\n",
      "2\n",
      "3\n",
      "4\n",
      "5\n",
      "6\n"
     ]
    }
   ],
   "source": [
    "# For List\n",
    "\n",
    "lis = [1,2,3,4,5,6]\n",
    "\n",
    "for num in lis:\n",
    "    print(num)"
   ]
  },
  {
   "cell_type": "code",
   "execution_count": 43,
   "id": "c534679f",
   "metadata": {},
   "outputs": [
    {
     "name": "stdout",
     "output_type": "stream",
     "text": [
      "6\n"
     ]
    }
   ],
   "source": [
    "print(num)"
   ]
  },
  {
   "cell_type": "code",
   "execution_count": 44,
   "id": "ca316cb7",
   "metadata": {},
   "outputs": [
    {
     "name": "stdout",
     "output_type": "stream",
     "text": [
      "[1, 2, 3, 4, 5, 6]\n"
     ]
    }
   ],
   "source": [
    "print(lis)"
   ]
  },
  {
   "cell_type": "markdown",
   "id": "6e229fd1",
   "metadata": {},
   "source": [
    "# Tuple Unpacking"
   ]
  },
  {
   "cell_type": "code",
   "execution_count": 45,
   "id": "77d59e33",
   "metadata": {},
   "outputs": [],
   "source": [
    "list_of_tuples = [(1,2), (3,4), (5,6), (7,8), (9, 0)]"
   ]
  },
  {
   "cell_type": "code",
   "execution_count": 46,
   "id": "2db4d5e9",
   "metadata": {},
   "outputs": [
    {
     "name": "stdout",
     "output_type": "stream",
     "text": [
      "(1, 2)\n",
      "(3, 4)\n",
      "(5, 6)\n",
      "(7, 8)\n",
      "(9, 0)\n"
     ]
    }
   ],
   "source": [
    "for x in list_of_tuples:\n",
    "    print(x)"
   ]
  },
  {
   "cell_type": "code",
   "execution_count": 47,
   "id": "e92d4804",
   "metadata": {},
   "outputs": [
    {
     "name": "stdout",
     "output_type": "stream",
     "text": [
      "1\n",
      "\n",
      "\n",
      "2\n",
      "3\n",
      "\n",
      "\n",
      "4\n",
      "5\n",
      "\n",
      "\n",
      "6\n",
      "7\n",
      "\n",
      "\n",
      "8\n",
      "9\n",
      "\n",
      "\n",
      "0\n"
     ]
    }
   ],
   "source": [
    "for x in list_of_tuples:\n",
    "    print(x[0])\n",
    "    print('\\n')\n",
    "    print(x[1])"
   ]
  }
 ],
 "metadata": {
  "kernelspec": {
   "display_name": "Python 3 (ipykernel)",
   "language": "python",
   "name": "python3"
  },
  "language_info": {
   "codemirror_mode": {
    "name": "ipython",
    "version": 3
   },
   "file_extension": ".py",
   "mimetype": "text/x-python",
   "name": "python",
   "nbconvert_exporter": "python",
   "pygments_lexer": "ipython3",
   "version": "3.9.13"
  }
 },
 "nbformat": 4,
 "nbformat_minor": 5
}
