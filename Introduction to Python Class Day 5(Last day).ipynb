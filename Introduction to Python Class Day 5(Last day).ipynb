{
 "cells": [
  {
   "cell_type": "markdown",
   "id": "aabc4ed1",
   "metadata": {},
   "source": [
    "# Continue"
   ]
  },
  {
   "cell_type": "code",
   "execution_count": 1,
   "id": "68eb1570",
   "metadata": {},
   "outputs": [
    {
     "name": "stdout",
     "output_type": "stream",
     "text": [
      "Your score is 30\n",
      "Your score is 40\n",
      "Your score is 60\n"
     ]
    }
   ],
   "source": [
    "scores = [30,40,50,60]\n",
    "\n",
    "for num in scores:\n",
    "    if num == 50:\n",
    "        continue\n",
    "    print('Your score is', num)"
   ]
  },
  {
   "cell_type": "code",
   "execution_count": 2,
   "id": "a2a2de33",
   "metadata": {},
   "outputs": [
    {
     "name": "stdout",
     "output_type": "stream",
     "text": [
      "current letter is: c\n",
      "current letter is: o\n",
      "current letter is: d\n"
     ]
    }
   ],
   "source": [
    "for letter in 'code':\n",
    "    if letter == 'e':\n",
    "        continue\n",
    "        \n",
    "    print('current letter is:' ,letter)"
   ]
  },
  {
   "cell_type": "markdown",
   "id": "adcdbe63",
   "metadata": {},
   "source": [
    "# CONDITIONAL STATEMENT"
   ]
  },
  {
   "cell_type": "code",
   "execution_count": 1,
   "id": "8f5158d4",
   "metadata": {},
   "outputs": [
    {
     "name": "stdout",
     "output_type": "stream",
     "text": [
      "None of the above conditions were True\n"
     ]
    }
   ],
   "source": [
    "if 2 == 0:\n",
    "    print('First condition True')\n",
    "elif 2 == 1:\n",
    "    print('Second condition True')\n",
    "elif 2 == 100:\n",
    "    print('Third condition True')\n",
    "else:\n",
    "    print('None of the above conditions were True')"
   ]
  },
  {
   "cell_type": "code",
   "execution_count": 2,
   "id": "3475c5af",
   "metadata": {},
   "outputs": [
    {
     "name": "stdout",
     "output_type": "stream",
     "text": [
      "First condition True\n"
     ]
    }
   ],
   "source": [
    "if 2 == 2:\n",
    "    print('First condition True')\n",
    "elif 2 == 2:\n",
    "    print('Second condition True')\n",
    "elif 2 == 2:\n",
    "    print('Third condition True')\n",
    "else:\n",
    "    print('None of the above conditions were True')"
   ]
  },
  {
   "cell_type": "code",
   "execution_count": 3,
   "id": "3b44c851",
   "metadata": {},
   "outputs": [
    {
     "name": "stdout",
     "output_type": "stream",
     "text": [
      "Third condition True\n"
     ]
    }
   ],
   "source": [
    "if 2 == 0:\n",
    "    print('First condition True')\n",
    "elif 2 == 200:\n",
    "    print('Second condition True')\n",
    "elif 2 == 2:\n",
    "    print('Third condition True')\n",
    "else:\n",
    "    print('None of the above conditions were True')"
   ]
  },
  {
   "cell_type": "code",
   "execution_count": null,
   "id": "53328fc7",
   "metadata": {},
   "outputs": [],
   "source": []
  },
  {
   "cell_type": "code",
   "execution_count": null,
   "id": "851a3bed",
   "metadata": {},
   "outputs": [],
   "source": [
    "'''\n",
    "incomplete note because of network issue, i was constantly logged out of zoom and due to the fact that the recording session of day 5 wasn't uploaded and there is need to submit the assesement before 2pm today. i have to submit\n",
    "'''"
   ]
  }
 ],
 "metadata": {
  "kernelspec": {
   "display_name": "Python 3 (ipykernel)",
   "language": "python",
   "name": "python3"
  },
  "language_info": {
   "codemirror_mode": {
    "name": "ipython",
    "version": 3
   },
   "file_extension": ".py",
   "mimetype": "text/x-python",
   "name": "python",
   "nbconvert_exporter": "python",
   "pygments_lexer": "ipython3",
   "version": "3.9.13"
  }
 },
 "nbformat": 4,
 "nbformat_minor": 5
}
